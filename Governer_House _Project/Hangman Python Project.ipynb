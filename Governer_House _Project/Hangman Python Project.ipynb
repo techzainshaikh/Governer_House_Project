{
 "cells": [
  {
   "cell_type": "markdown",
   "id": "5362ed7c-2d11-485b-ad5a-3fe03b256fa4",
   "metadata": {},
   "source": [
    "# Hangman Python Project"
   ]
  },
  {
   "cell_type": "code",
   "execution_count": 1,
   "id": "33b4544d-a100-4ddf-bd9c-3d304d4fe5a4",
   "metadata": {},
   "outputs": [
    {
     "name": "stdout",
     "output_type": "stream",
     "text": [
      "Welcome to Hangman!\n",
      "Try to guess the word, one letter at a time.\n",
      "\n",
      "Word: _ _ _ _ _ _ _ _ _ _ _\n",
      "Attempts left: 6\n",
      "Guessed letters: None\n"
     ]
    },
    {
     "name": "stdout",
     "output_type": "stream",
     "text": [
      "Guess a letter:  p\n"
     ]
    },
    {
     "name": "stdout",
     "output_type": "stream",
     "text": [
      "Good guess!\n",
      "\n",
      "Word: p _ _ _ _ _ _ _ _ _ _\n",
      "Attempts left: 6\n",
      "Guessed letters: p\n"
     ]
    },
    {
     "name": "stdout",
     "output_type": "stream",
     "text": [
      "Guess a letter:  r\n"
     ]
    },
    {
     "name": "stdout",
     "output_type": "stream",
     "text": [
      "Good guess!\n",
      "\n",
      "Word: p r _ _ r _ _ _ _ _ _\n",
      "Attempts left: 6\n",
      "Guessed letters: r, p\n"
     ]
    },
    {
     "name": "stdout",
     "output_type": "stream",
     "text": [
      "Guess a letter:  o\n"
     ]
    },
    {
     "name": "stdout",
     "output_type": "stream",
     "text": [
      "Good guess!\n",
      "\n",
      "Word: p r o _ r _ _ _ _ _ _\n",
      "Attempts left: 6\n",
      "Guessed letters: o, r, p\n"
     ]
    },
    {
     "name": "stdout",
     "output_type": "stream",
     "text": [
      "Guess a letter:  g\n"
     ]
    },
    {
     "name": "stdout",
     "output_type": "stream",
     "text": [
      "Good guess!\n",
      "\n",
      "Word: p r o g r _ _ _ _ _ g\n",
      "Attempts left: 6\n",
      "Guessed letters: o, r, g, p\n"
     ]
    },
    {
     "name": "stdout",
     "output_type": "stream",
     "text": [
      "Guess a letter:  a\n"
     ]
    },
    {
     "name": "stdout",
     "output_type": "stream",
     "text": [
      "Good guess!\n",
      "\n",
      "Word: p r o g r a _ _ _ _ g\n",
      "Attempts left: 6\n",
      "Guessed letters: o, g, p, a, r\n"
     ]
    },
    {
     "name": "stdout",
     "output_type": "stream",
     "text": [
      "Guess a letter:  m\n"
     ]
    },
    {
     "name": "stdout",
     "output_type": "stream",
     "text": [
      "Good guess!\n",
      "\n",
      "Word: p r o g r a m m _ _ g\n",
      "Attempts left: 6\n",
      "Guessed letters: o, g, p, a, r, m\n"
     ]
    },
    {
     "name": "stdout",
     "output_type": "stream",
     "text": [
      "Guess a letter:  m\n"
     ]
    },
    {
     "name": "stdout",
     "output_type": "stream",
     "text": [
      "You've already guessed that letter. Try again.\n",
      "\n",
      "Word: p r o g r a m m _ _ g\n",
      "Attempts left: 6\n",
      "Guessed letters: o, g, p, a, r, m\n"
     ]
    },
    {
     "name": "stdout",
     "output_type": "stream",
     "text": [
      "Guess a letter:  i\n"
     ]
    },
    {
     "name": "stdout",
     "output_type": "stream",
     "text": [
      "Good guess!\n",
      "\n",
      "Word: p r o g r a m m i _ g\n",
      "Attempts left: 6\n",
      "Guessed letters: o, g, p, a, i, r, m\n"
     ]
    },
    {
     "name": "stdout",
     "output_type": "stream",
     "text": [
      "Guess a letter:  n\n"
     ]
    },
    {
     "name": "stdout",
     "output_type": "stream",
     "text": [
      "Good guess!\n",
      "\n",
      "Congratulations! You guessed the word: programming\n"
     ]
    }
   ],
   "source": [
    "import random\n",
    "\n",
    "# List \n",
    "word_list = [\"python\", \"hangman\", \"programming\", \"developer\", \"computer\", \"software\"]\n",
    "\n",
    "# Function to display the current state of the word\n",
    "def display_word(word, guessed_letters):\n",
    "    return \" \".join([letter if letter in guessed_letters else \"_\" for letter in word])\n",
    "\n",
    "def hangman():\n",
    "    print(\"Welcome to Hangman!\")\n",
    "    print(\"Try to guess the word, one letter at a time.\\n\")\n",
    "\n",
    "    # Choose a random word from the word list\n",
    "    secret_word = random.choice(word_list)\n",
    "    guessed_letters = set()  # To keep track of guessed letters\n",
    "    attempts_left = 6  # Number of wrong guesses allowed\n",
    "\n",
    "    while attempts_left > 0:\n",
    "        # Display the current state of the word\n",
    "        print(f\"Word: {display_word(secret_word, guessed_letters)}\")\n",
    "        print(f\"Attempts left: {attempts_left}\")\n",
    "        print(f\"Guessed letters: {', '.join(guessed_letters) if guessed_letters else 'None'}\")\n",
    "\n",
    "        # Get the player's guess\n",
    "        guess = input(\"Guess a letter: \").lower()\n",
    "\n",
    "        # Validate the input\n",
    "        if len(guess) != 1 or not guess.isalpha():\n",
    "            print(\"Invalid input! Please enter a single letter.\\n\")\n",
    "            continue\n",
    "\n",
    "        # If the letter has already been guessed\n",
    "        if guess in guessed_letters:\n",
    "            print(\"You've already guessed that letter. Try again.\\n\")\n",
    "            continue\n",
    "\n",
    "        # Add the guess to the set of guessed letters\n",
    "        guessed_letters.add(guess)\n",
    "\n",
    "        # Check if the guess is in the secret word\n",
    "        if guess in secret_word:\n",
    "            print(\"Good guess!\\n\")\n",
    "            # Check if the entire word has been guessed\n",
    "            if all(letter in guessed_letters for letter in secret_word):\n",
    "                print(f\"Congratulations! You guessed the word: {secret_word}\")\n",
    "                break\n",
    "        else:\n",
    "            print(\"Wrong guess!\")\n",
    "            attempts_left -= 1  # Decrement attempts for wrong guess\n",
    "            print()\n",
    "\n",
    "    # If the player runs out of attempts\n",
    "    if attempts_left == 0:\n",
    "        print(f\"Game over! The word was: {secret_word}\")\n",
    "\n",
    "# Start the game\n",
    "hangman()\n"
   ]
  },
  {
   "cell_type": "code",
   "execution_count": null,
   "id": "195122f8-7c4a-479a-8d25-0782ee735bdd",
   "metadata": {},
   "outputs": [],
   "source": []
  }
 ],
 "metadata": {
  "kernelspec": {
   "display_name": "Python 3 (ipykernel)",
   "language": "python",
   "name": "python3"
  },
  "language_info": {
   "codemirror_mode": {
    "name": "ipython",
    "version": 3
   },
   "file_extension": ".py",
   "mimetype": "text/x-python",
   "name": "python",
   "nbconvert_exporter": "python",
   "pygments_lexer": "ipython3",
   "version": "3.11.10"
  }
 },
 "nbformat": 4,
 "nbformat_minor": 5
}
