{
 "cells": [
  {
   "cell_type": "markdown",
   "id": "4c9c98c7-345c-4879-8eab-ada549a317b3",
   "metadata": {},
   "source": [
    "# Rock, paper, scissors Python Project"
   ]
  },
  {
   "cell_type": "code",
   "execution_count": 2,
   "id": "fc70d10e-4f8e-47db-979c-a648964d73a9",
   "metadata": {},
   "outputs": [
    {
     "name": "stdout",
     "output_type": "stream",
     "text": [
      "Welcome to Rock, Paper, Scissors!\n",
      "Instructions: Enter 'rock', 'paper', or 'scissors' to play.\n",
      "Type 'quit' to end the game.\n",
      "\n"
     ]
    },
    {
     "name": "stdout",
     "output_type": "stream",
     "text": [
      "Your choice (rock, paper, scissors):  paper\n"
     ]
    },
    {
     "name": "stdout",
     "output_type": "stream",
     "text": [
      "Computer chose: scissors\n",
      "You lose!\n",
      "\n"
     ]
    },
    {
     "name": "stdout",
     "output_type": "stream",
     "text": [
      "Your choice (rock, paper, scissors):  rock\n"
     ]
    },
    {
     "name": "stdout",
     "output_type": "stream",
     "text": [
      "Computer chose: paper\n",
      "You lose!\n",
      "\n"
     ]
    },
    {
     "name": "stdout",
     "output_type": "stream",
     "text": [
      "Your choice (rock, paper, scissors):  rock\n"
     ]
    },
    {
     "name": "stdout",
     "output_type": "stream",
     "text": [
      "Computer chose: scissors\n",
      "You win!\n",
      "\n"
     ]
    },
    {
     "name": "stdout",
     "output_type": "stream",
     "text": [
      "Your choice (rock, paper, scissors):  quit\n"
     ]
    },
    {
     "name": "stdout",
     "output_type": "stream",
     "text": [
      "Thanks for playing! Goodbye!\n"
     ]
    }
   ],
   "source": [
    "import random\n",
    "\n",
    "print(\"Welcome to Rock, Paper, Scissors!\")\n",
    "print(\"Instructions: Enter 'rock', 'paper', or 'scissors' to play.\")\n",
    "print(\"Type 'quit' to end the game.\\n\")\n",
    "\n",
    "# List of possible choices\n",
    "choices = [\"rock\", \"paper\", \"scissors\"]\n",
    "\n",
    "while True:\n",
    "    user_choice = input(\"Your choice (rock, paper, scissors): \").lower()\n",
    "\n",
    "    # Exit the game if the user types 'quit'\n",
    "    if user_choice == \"quit\":\n",
    "        print(\"Thanks for playing! Goodbye!\")\n",
    "        break\n",
    "\n",
    "    # Validate user's input\n",
    "    if user_choice not in choices:\n",
    "        print(\"Invalid choice! Please enter 'rock', 'paper', or 'scissors'.\")\n",
    "        continue\n",
    "\n",
    "    # Computer makes a random choice\n",
    "    computer_choice = random.choice(choices)\n",
    "    print(f\"Computer chose: {computer_choice}\")\n",
    "\n",
    "    # Determine the winner\n",
    "    if user_choice == computer_choice:\n",
    "        print(\"It's a tie!\")\n",
    "    elif (user_choice == \"rock\" and computer_choice == \"scissors\") or \\\n",
    "         (user_choice == \"paper\" and computer_choice == \"rock\") or \\\n",
    "         (user_choice == \"scissors\" and computer_choice == \"paper\"):\n",
    "        print(\"You win!\")\n",
    "    else:\n",
    "        print(\"You lose!\")\n",
    "\n",
    "    print()  # Print a blank line for better readability\n"
   ]
  },
  {
   "cell_type": "code",
   "execution_count": null,
   "id": "96f23292-6ef3-42ab-b04f-0c89287f08d4",
   "metadata": {},
   "outputs": [],
   "source": []
  }
 ],
 "metadata": {
  "kernelspec": {
   "display_name": "Python 3 (ipykernel)",
   "language": "python",
   "name": "python3"
  },
  "language_info": {
   "codemirror_mode": {
    "name": "ipython",
    "version": 3
   },
   "file_extension": ".py",
   "mimetype": "text/x-python",
   "name": "python",
   "nbconvert_exporter": "python",
   "pygments_lexer": "ipython3",
   "version": "3.11.10"
  }
 },
 "nbformat": 4,
 "nbformat_minor": 5
}
