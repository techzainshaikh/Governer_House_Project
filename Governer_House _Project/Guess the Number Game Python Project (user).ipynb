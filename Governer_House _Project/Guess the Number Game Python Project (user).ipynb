{
 "cells": [
  {
   "cell_type": "markdown",
   "id": "ef0a51fe-e437-454e-ade9-e313fdffb7d3",
   "metadata": {},
   "source": [
    "# Guess the Number Game Python Project (user)"
   ]
  },
  {
   "cell_type": "code",
   "execution_count": 2,
   "id": "31816a0c-3442-4d5a-aaff-a1beac8d10f4",
   "metadata": {},
   "outputs": [
    {
     "name": "stdout",
     "output_type": "stream",
     "text": [
      "Welcome to 'Guess the Number'!\n",
      "Think of a number between 1 and 100, and I'll try to guess it.\n",
      "I’ll ask if my guess is too high, too low, or correct.\n",
      "\n",
      "My guess is 50.\n"
     ]
    },
    {
     "name": "stdout",
     "output_type": "stream",
     "text": [
      "Is it too high (H), too low (L), or correct (C)?  h\n"
     ]
    },
    {
     "name": "stdout",
     "output_type": "stream",
     "text": [
      "My guess is 25.\n"
     ]
    },
    {
     "name": "stdout",
     "output_type": "stream",
     "text": [
      "Is it too high (H), too low (L), or correct (C)?  l\n"
     ]
    },
    {
     "name": "stdout",
     "output_type": "stream",
     "text": [
      "My guess is 37.\n"
     ]
    },
    {
     "name": "stdout",
     "output_type": "stream",
     "text": [
      "Is it too high (H), too low (L), or correct (C)?  c\n"
     ]
    },
    {
     "name": "stdout",
     "output_type": "stream",
     "text": [
      "Yay! I guessed your number 37 in 3 attempts!\n"
     ]
    }
   ],
   "source": [
    "print(\"Welcome to 'Guess the Number'!\")\n",
    "print(\"Think of a number between 1 and 100, and I'll try to guess it.\")\n",
    "print(\"I’ll ask if my guess is too high, too low, or correct.\\n\")\n",
    "\n",
    "# Initialize variables\n",
    "low = 1  # The lowest possible number\n",
    "high = 100  # The highest possible number\n",
    "attempts = 0  # Count the number of guesses\n",
    "\n",
    "\n",
    "while True:\n",
    "   \n",
    "    guess = (low + high) // 2  # Computer guesses the middle of the range\n",
    "    attempts += 1  # Increment attempts\n",
    "    \n",
    "    # Show the guess to the user\n",
    "    print(f\"My guess is {guess}.\")\n",
    "    feedback = input(\"Is it too high (H), too low (L), or correct (C)? \").strip().lower()\n",
    "\n",
    "    # Process the feedback\n",
    "    if feedback == \"h\":  # Guess is too high\n",
    "        high = guess - 1\n",
    "    elif feedback == \"l\":  # Guess is too low\n",
    "        low = guess + 1\n",
    "    elif feedback == \"c\":  # Guess is correct\n",
    "        print(f\"Yay! I guessed your number {guess} in {attempts} attempts!\")\n",
    "        break \n",
    "    else:\n",
    "        print(\"Invalid input! Please enter H, L, or C.\")"
   ]
  },
  {
   "cell_type": "code",
   "execution_count": null,
   "id": "7e4c61d9-381a-4770-b91a-810c90825195",
   "metadata": {},
   "outputs": [],
   "source": []
  }
 ],
 "metadata": {
  "kernelspec": {
   "display_name": "Python 3 (ipykernel)",
   "language": "python",
   "name": "python3"
  },
  "language_info": {
   "codemirror_mode": {
    "name": "ipython",
    "version": 3
   },
   "file_extension": ".py",
   "mimetype": "text/x-python",
   "name": "python",
   "nbconvert_exporter": "python",
   "pygments_lexer": "ipython3",
   "version": "3.11.10"
  }
 },
 "nbformat": 4,
 "nbformat_minor": 5
}
