{
 "cells": [
  {
   "cell_type": "markdown",
   "id": "aa0e6421-2c7d-4a2a-bb21-85a45b090965",
   "metadata": {},
   "source": [
    "# Guess the Number Game Python Project (computer) "
   ]
  },
  {
   "cell_type": "code",
   "execution_count": 3,
   "id": "c7b9260d-eb1e-4e7c-a9a1-3316c674ac06",
   "metadata": {},
   "outputs": [
    {
     "name": "stdout",
     "output_type": "stream",
     "text": [
      "Welcome to 'Guess the Number'!\n",
      "I'm thinking of a number between 1 and 100.\n",
      "Can you guess it? Let's start!\n",
      "\n"
     ]
    },
    {
     "name": "stdout",
     "output_type": "stream",
     "text": [
      "Enter your guess (1-100):  10\n"
     ]
    },
    {
     "name": "stdout",
     "output_type": "stream",
     "text": [
      "Too low! Try again.\n"
     ]
    },
    {
     "name": "stdout",
     "output_type": "stream",
     "text": [
      "Enter your guess (1-100):  20\n"
     ]
    },
    {
     "name": "stdout",
     "output_type": "stream",
     "text": [
      "Too low! Try again.\n"
     ]
    },
    {
     "name": "stdout",
     "output_type": "stream",
     "text": [
      "Enter your guess (1-100):  30\n"
     ]
    },
    {
     "name": "stdout",
     "output_type": "stream",
     "text": [
      "Too low! Try again.\n"
     ]
    },
    {
     "name": "stdout",
     "output_type": "stream",
     "text": [
      "Enter your guess (1-100):  40\n"
     ]
    },
    {
     "name": "stdout",
     "output_type": "stream",
     "text": [
      "Too high! Try again.\n"
     ]
    },
    {
     "name": "stdout",
     "output_type": "stream",
     "text": [
      "Enter your guess (1-100):  31\n"
     ]
    },
    {
     "name": "stdout",
     "output_type": "stream",
     "text": [
      "Too low! Try again.\n"
     ]
    },
    {
     "name": "stdout",
     "output_type": "stream",
     "text": [
      "Enter your guess (1-100):  32\n"
     ]
    },
    {
     "name": "stdout",
     "output_type": "stream",
     "text": [
      "Too low! Try again.\n"
     ]
    },
    {
     "name": "stdout",
     "output_type": "stream",
     "text": [
      "Enter your guess (1-100):  33\n"
     ]
    },
    {
     "name": "stdout",
     "output_type": "stream",
     "text": [
      "Too low! Try again.\n"
     ]
    },
    {
     "name": "stdout",
     "output_type": "stream",
     "text": [
      "Enter your guess (1-100):  34\n"
     ]
    },
    {
     "name": "stdout",
     "output_type": "stream",
     "text": [
      "Too low! Try again.\n"
     ]
    },
    {
     "name": "stdout",
     "output_type": "stream",
     "text": [
      "Enter your guess (1-100):  35\n"
     ]
    },
    {
     "name": "stdout",
     "output_type": "stream",
     "text": [
      "Congratulations! You guessed the number 35 in 9 attempts.\n"
     ]
    }
   ],
   "source": [
    "import random\n",
    "\n",
    "print(\"Welcome to 'Guess the Number'!\")\n",
    "print(\"I'm thinking of a number between 1 and 100.\")\n",
    "print(\"Can you guess it? Let's start!\\n\")\n",
    "\n",
    "# Generate a random number between 1 and 100\n",
    "# The player will try to guess this number\n",
    "number_to_guess = random.randint(1, 100)\n",
    "\n",
    "attempts = 0\n",
    "\n",
    "while True:\n",
    "    try:\n",
    "        # Ask the user \n",
    "        guess = int(input(\"Enter your guess (1-100): \"))\n",
    "        \n",
    "        # Increment the attempt counter\n",
    "        attempts += 1\n",
    "\n",
    "        # Check if the guess is too low, too high, or correct\n",
    "        if guess < number_to_guess:\n",
    "            print(\"Too low! Try again.\")\n",
    "        elif guess > number_to_guess:\n",
    "            print(\"Too high! Try again.\")\n",
    "        else:\n",
    "            # If the guess is correct\n",
    "            print(f\"Congratulations! You guessed the number {number_to_guess} in {attempts} attempts.\")\n",
    "            break  \n",
    "    except ValueError:\n",
    "        # Handle invalid input (e.g., if the user enters a string instead of a number)\n",
    "        print(\"Invalid input! Please enter a valid number.\")"
   ]
  },
  {
   "cell_type": "code",
   "execution_count": null,
   "id": "8c2b6cb2-a8bf-45fe-b44d-2dcc8abf0a09",
   "metadata": {},
   "outputs": [],
   "source": []
  },
  {
   "cell_type": "code",
   "execution_count": null,
   "id": "e0063c72-627d-4481-ac71-208e824d05e6",
   "metadata": {},
   "outputs": [],
   "source": []
  }
 ],
 "metadata": {
  "kernelspec": {
   "display_name": "Python 3 (ipykernel)",
   "language": "python",
   "name": "python3"
  },
  "language_info": {
   "codemirror_mode": {
    "name": "ipython",
    "version": 3
   },
   "file_extension": ".py",
   "mimetype": "text/x-python",
   "name": "python",
   "nbconvert_exporter": "python",
   "pygments_lexer": "ipython3",
   "version": "3.11.10"
  }
 },
 "nbformat": 4,
 "nbformat_minor": 5
}
