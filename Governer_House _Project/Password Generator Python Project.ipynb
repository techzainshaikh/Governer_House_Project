{
 "cells": [
  {
   "cell_type": "markdown",
   "id": "ddfdab81-c1de-456e-aed8-0032da84c8e3",
   "metadata": {},
   "source": [
    "# Password Generator Python Project"
   ]
  },
  {
   "cell_type": "code",
   "execution_count": 1,
   "id": "922ac7ba-f04d-45ae-a0fc-0d11f19636dc",
   "metadata": {},
   "outputs": [
    {
     "name": "stdin",
     "output_type": "stream",
     "text": [
      "Enter the password length (default is 8):  7\n"
     ]
    },
    {
     "name": "stdout",
     "output_type": "stream",
     "text": [
      "Your generated password is: hyDDdOu\n"
     ]
    }
   ],
   "source": [
    "import random\n",
    "import string\n",
    "\n",
    "def generate_password(length=8):\n",
    "    # Pool of characters: letters and digits\n",
    "    char_pool = string.ascii_letters + string.digits\n",
    "\n",
    "    # Generate a random password\n",
    "    password = ''.join(random.choice(char_pool) for _ in range(length))\n",
    "    return password\n",
    "\n",
    "# Main program\n",
    "length = int(input(\"Enter the password length (default is 8): \") or 8)\n",
    "password = generate_password(length)\n",
    "print(f\"Your generated password is: {password}\")\n"
   ]
  },
  {
   "cell_type": "code",
   "execution_count": null,
   "id": "4f6f093a-cbb0-4eea-9525-9798f12344a8",
   "metadata": {},
   "outputs": [],
   "source": []
  }
 ],
 "metadata": {
  "kernelspec": {
   "display_name": "Python 3 (ipykernel)",
   "language": "python",
   "name": "python3"
  },
  "language_info": {
   "codemirror_mode": {
    "name": "ipython",
    "version": 3
   },
   "file_extension": ".py",
   "mimetype": "text/x-python",
   "name": "python",
   "nbconvert_exporter": "python",
   "pygments_lexer": "ipython3",
   "version": "3.11.10"
  }
 },
 "nbformat": 4,
 "nbformat_minor": 5
}
