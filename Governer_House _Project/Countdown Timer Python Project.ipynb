{
 "cells": [
  {
   "cell_type": "markdown",
   "id": "5c08fd2c-c0c5-4bd4-9f1b-cf25947d4b50",
   "metadata": {},
   "source": [
    "# Countdown Timer Python Project"
   ]
  },
  {
   "cell_type": "code",
   "execution_count": 3,
   "id": "ecd76d99-1c19-493e-8aad-605539d4179e",
   "metadata": {},
   "outputs": [
    {
     "name": "stdin",
     "output_type": "stream",
     "text": [
      "Enter time in seconds:  5\n"
     ]
    },
    {
     "name": "stdout",
     "output_type": "stream",
     "text": [
      "Time's up!\n"
     ]
    }
   ],
   "source": [
    "import time\n",
    "\n",
    "def countdown_timer(seconds):\n",
    "    while seconds:\n",
    "        mins, secs = divmod(seconds, 60)  # Convert seconds to minutes and seconds\n",
    "        print(f'{mins:02d}:{secs:02d}', end='\\r')  # Display the countdown\n",
    "        time.sleep(1)  # Wait for 1 second\n",
    "        seconds -= 1  # Decrease the time by 1 second\n",
    "\n",
    "    print(\"Time's up!\")\n",
    "\n",
    "\n",
    "seconds = int(input(\"Enter time in seconds: \"))\n",
    "countdown_timer(seconds)\n"
   ]
  },
  {
   "cell_type": "code",
   "execution_count": null,
   "id": "dcb43638-60b1-4754-83e4-ad8825875554",
   "metadata": {},
   "outputs": [],
   "source": []
  }
 ],
 "metadata": {
  "kernelspec": {
   "display_name": "Python 3 (ipykernel)",
   "language": "python",
   "name": "python3"
  },
  "language_info": {
   "codemirror_mode": {
    "name": "ipython",
    "version": 3
   },
   "file_extension": ".py",
   "mimetype": "text/x-python",
   "name": "python",
   "nbconvert_exporter": "python",
   "pygments_lexer": "ipython3",
   "version": "3.11.10"
  }
 },
 "nbformat": 4,
 "nbformat_minor": 5
}
