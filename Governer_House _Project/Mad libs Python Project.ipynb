{
 "cells": [
  {
   "cell_type": "markdown",
   "id": "d9357caf-dd63-4d53-a337-325741fb2763",
   "metadata": {},
   "source": [
    "# Mad libs Python Project"
   ]
  },
  {
   "cell_type": "code",
   "execution_count": 1,
   "id": "489be436-8f3b-4abb-880d-825e83264e19",
   "metadata": {},
   "outputs": [
    {
     "name": "stdin",
     "output_type": "stream",
     "text": [
      "Enter the name of a cricket player:  Baber Azam\n",
      "How many runs did they score?:  100\n",
      "How many wickets did they take?:  3\n",
      "Describe the match in one word (e.g., thrilling, amazing):  thrilling\n",
      "Enter the name of a stadium:  Karachi\n",
      "What did the crowd shout?:  Amazing\n",
      "What decision did the umpire give (e.g., out, not out)?:  out\n",
      "Did the team win or lose?:  lose\n"
     ]
    },
    {
     "name": "stdout",
     "output_type": "stream",
     "text": [
      "\n",
      "Here's your Cricket Mad Libs story:\n",
      "\n",
      "Today, Baber Azam scored 100 runs and took 3 wickets! \n",
      "It was a thrilling match at Karachi. \n",
      "The crowd went wild, shouting \"Amazing!\" \n",
      "In the end, the umpire gave a out, and the team lose the match.\n",
      "\n"
     ]
    }
   ],
   "source": [
    "story = \"\"\"\n",
    "Today, {player} scored {runs} runs and took {wickets} wickets! \n",
    "It was a {adjective} match at {stadium}. \n",
    "The crowd went wild, shouting \"{reaction}!\" \n",
    "In the end, the umpire gave a {decision}, and the team {result} the match.\n",
    "\"\"\"\n",
    "\n",
    "# Ask the user for inputs\n",
    "player = input(\"Enter the name of a cricket player: \")\n",
    "runs = input(\"How many runs did they score?: \")\n",
    "wickets = input(\"How many wickets did they take?: \")\n",
    "adjective = input(\"Describe the match in one word (e.g., thrilling, amazing): \")\n",
    "stadium = input(\"Enter the name of a stadium: \")\n",
    "reaction = input(\"What did the crowd shout?: \")\n",
    "decision = input(\"What decision did the umpire give (e.g., out, not out)?: \")\n",
    "result = input(\"Did the team win or lose?: \")\n",
    "\n",
    "# Fill in the placeholders with user input\n",
    "final_story = story.format(\n",
    "    player=player,\n",
    "    runs=runs,\n",
    "    wickets=wickets,\n",
    "    adjective=adjective,\n",
    "    stadium=stadium,\n",
    "    reaction=reaction,\n",
    "    decision=decision,\n",
    "    result=result\n",
    ")\n",
    "\n",
    "print(\"\\nHere's your Cricket Mad Libs story:\")\n",
    "print(final_story)\n"
   ]
  },
  {
   "cell_type": "code",
   "execution_count": null,
   "id": "e650e845-2f11-4d6b-8eb5-bd30725913f5",
   "metadata": {},
   "outputs": [],
   "source": []
  }
 ],
 "metadata": {
  "kernelspec": {
   "display_name": "Python 3 (ipykernel)",
   "language": "python",
   "name": "python3"
  },
  "language_info": {
   "codemirror_mode": {
    "name": "ipython",
    "version": 3
   },
   "file_extension": ".py",
   "mimetype": "text/x-python",
   "name": "python",
   "nbconvert_exporter": "python",
   "pygments_lexer": "ipython3",
   "version": "3.11.10"
  }
 },
 "nbformat": 4,
 "nbformat_minor": 5
}
